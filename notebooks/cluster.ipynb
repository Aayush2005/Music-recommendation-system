{
 "cells": [
  {
   "cell_type": "code",
   "execution_count": 2,
   "id": "bb7ee32a",
   "metadata": {},
   "outputs": [
    {
     "name": "stdout",
     "output_type": "stream",
     "text": [
      "Collecting hdbscan\n",
      "  Downloading hdbscan-0.8.40-cp312-cp312-macosx_10_13_universal2.whl.metadata (15 kB)\n",
      "Requirement already satisfied: numpy<3,>=1.20 in ./venv/lib/python3.12/site-packages (from hdbscan) (1.26.4)\n",
      "Requirement already satisfied: scipy>=1.0 in ./venv/lib/python3.12/site-packages (from hdbscan) (1.16.2)\n",
      "Requirement already satisfied: scikit-learn>=0.20 in ./venv/lib/python3.12/site-packages (from hdbscan) (1.7.2)\n",
      "Requirement already satisfied: joblib>=1.0 in ./venv/lib/python3.12/site-packages (from hdbscan) (1.5.2)\n",
      "Requirement already satisfied: threadpoolctl>=3.1.0 in ./venv/lib/python3.12/site-packages (from scikit-learn>=0.20->hdbscan) (3.6.0)\n",
      "Downloading hdbscan-0.8.40-cp312-cp312-macosx_10_13_universal2.whl (1.5 MB)\n",
      "\u001b[2K   \u001b[90m━━━━━━━━━━━━━━━━━━━━━━━━━━━━━━━━━━━━━━━━\u001b[0m \u001b[32m1.5/1.5 MB\u001b[0m \u001b[31m2.7 MB/s\u001b[0m  \u001b[33m0:00:00\u001b[0mm eta \u001b[36m0:00:01\u001b[0m\n",
      "\u001b[?25hInstalling collected packages: hdbscan\n",
      "Successfully installed hdbscan-0.8.40\n"
     ]
    }
   ],
   "source": [
    "!pip install hdbscan"
   ]
  },
  {
   "cell_type": "code",
   "execution_count": 3,
   "id": "34d99367",
   "metadata": {},
   "outputs": [],
   "source": [
    "import faiss\n",
    "import numpy as np\n",
    "import hdbscan\n",
    "import json\n",
    "\n"
   ]
  },
  {
   "cell_type": "code",
   "execution_count": 4,
   "id": "e460f233",
   "metadata": {},
   "outputs": [
    {
     "data": {
      "text/plain": [
       "array([[-1.8594841e-02,  2.2015141e-02,  1.1109457e-02, ...,\n",
       "         3.8874050e-04,  2.7885014e-04,  1.1467549e-04],\n",
       "       [-1.8594801e-02,  2.2015095e-02,  1.1109433e-02, ...,\n",
       "        -8.3451348e-05,  2.4739438e-04,  8.6424167e-05],\n",
       "       [-3.0911859e-02,  2.2164574e-02,  3.4151442e-04, ...,\n",
       "         1.8507249e-04,  2.9084086e-04,  1.5904200e-04],\n",
       "       ...,\n",
       "       [-4.1083451e-02,  4.1397393e-02,  5.8253305e-03, ...,\n",
       "        -4.1099440e-04,  3.5400767e-04,  1.6999725e-04],\n",
       "       [-4.3202877e-02,  4.6174712e-02,  6.6729584e-03, ...,\n",
       "         4.5829275e-04,  3.6781872e-04,  1.2223603e-04],\n",
       "       [-3.9981917e-02,  3.8247123e-02, -3.4121319e-04, ...,\n",
       "         7.5836346e-04,  3.5032665e-04,  2.0373805e-04]], dtype=float32)"
      ]
     },
     "execution_count": 4,
     "metadata": {},
     "output_type": "execute_result"
    }
   ],
   "source": [
    "# ---------------------------\n",
    "# 1. Load FAISS index\n",
    "# ---------------------------\n",
    "index = faiss.read_index(\"faiss_index.bin\")\n",
    "d = index.d\n",
    "n = index.ntotal\n",
    "vectors = np.zeros((n, d), dtype=np.float32)\n",
    "index.reconstruct_n(0, n, vectors)  # get all vectors\n",
    "\n"
   ]
  },
  {
   "cell_type": "code",
   "execution_count": 7,
   "id": "a3080854",
   "metadata": {},
   "outputs": [
    {
     "name": "stderr",
     "output_type": "stream",
     "text": [
      "/Users/mariebiskoot/Documents/Music-recommendation-system/venv/lib/python3.12/site-packages/sklearn/utils/deprecation.py:132: FutureWarning: 'force_all_finite' was renamed to 'ensure_all_finite' in 1.6 and will be removed in 1.8.\n",
      "  warnings.warn(\n",
      "/Users/mariebiskoot/Documents/Music-recommendation-system/venv/lib/python3.12/site-packages/sklearn/utils/deprecation.py:132: FutureWarning: 'force_all_finite' was renamed to 'ensure_all_finite' in 1.6 and will be removed in 1.8.\n",
      "  warnings.warn(\n"
     ]
    }
   ],
   "source": [
    "# ---------------------------\n",
    "# 2. HDBSCAN clustering\n",
    "# ---------------------------\n",
    "clusterer = hdbscan.HDBSCAN(\n",
    "    min_cluster_size=5,\n",
    "    metric='euclidean'  # or 'cosine' if vectors are normalized\n",
    ")\n",
    "labels = clusterer.fit_predict(vectors)\n"
   ]
  },
  {
   "cell_type": "code",
   "execution_count": 10,
   "id": "5114df84",
   "metadata": {},
   "outputs": [],
   "source": [
    "unique_labels = set(labels)\n",
    "cluster_centroids = {}\n",
    "for lbl in unique_labels:\n",
    "    if lbl == -1:\n",
    "        continue  # skip noise\n",
    "    cluster_centroids[int(lbl)] = vectors[labels == lbl].mean(axis=0).tolist()\n"
   ]
  },
  {
   "cell_type": "code",
   "execution_count": 11,
   "id": "59849a0e",
   "metadata": {},
   "outputs": [
    {
     "name": "stdout",
     "output_type": "stream",
     "text": [
      "Clusters saved to 'clusters.json'\n",
      "Found 2 clusters (noise excluded)\n"
     ]
    }
   ],
   "source": [
    "# ---------------------------\n",
    "# 4. Export cluster info\n",
    "# ---------------------------\n",
    "cluster_data = {\n",
    "    \"labels\": labels.tolist(),          # cluster label for each song (same order as FAISS)\n",
    "    \"centroids\": cluster_centroids      # cluster centroids for reuse\n",
    "}\n",
    "\n",
    "with open(\"clusters.json\", \"w\") as f:\n",
    "    json.dump(cluster_data, f, indent=2)\n",
    "\n",
    "print(\"Clusters saved to 'clusters.json'\")\n",
    "print(f\"Found {len(cluster_centroids)} clusters (noise excluded)\")"
   ]
  },
  {
   "cell_type": "code",
   "execution_count": null,
   "id": "b25b42fc",
   "metadata": {},
   "outputs": [],
   "source": []
  },
  {
   "cell_type": "code",
   "execution_count": null,
   "id": "486071d6",
   "metadata": {},
   "outputs": [],
   "source": []
  },
  {
   "cell_type": "code",
   "execution_count": null,
   "id": "9d413bcc",
   "metadata": {},
   "outputs": [],
   "source": []
  },
  {
   "cell_type": "code",
   "execution_count": null,
   "id": "a4704ec1",
   "metadata": {},
   "outputs": [],
   "source": []
  },
  {
   "cell_type": "code",
   "execution_count": null,
   "id": "db964f71",
   "metadata": {},
   "outputs": [],
   "source": []
  },
  {
   "cell_type": "code",
   "execution_count": null,
   "id": "77a6b1d3",
   "metadata": {},
   "outputs": [],
   "source": []
  },
  {
   "cell_type": "code",
   "execution_count": null,
   "id": "bb7cb654",
   "metadata": {},
   "outputs": [],
   "source": []
  },
  {
   "cell_type": "code",
   "execution_count": null,
   "id": "7b4ceb15",
   "metadata": {},
   "outputs": [],
   "source": []
  },
  {
   "cell_type": "code",
   "execution_count": null,
   "id": "f9f2fbe7",
   "metadata": {},
   "outputs": [],
   "source": []
  },
  {
   "cell_type": "code",
   "execution_count": null,
   "id": "47219633",
   "metadata": {},
   "outputs": [],
   "source": []
  },
  {
   "cell_type": "code",
   "execution_count": null,
   "id": "12a9ba7d",
   "metadata": {},
   "outputs": [],
   "source": []
  },
  {
   "cell_type": "code",
   "execution_count": null,
   "id": "0937ec80",
   "metadata": {},
   "outputs": [],
   "source": []
  },
  {
   "cell_type": "code",
   "execution_count": null,
   "id": "f5d8ee89",
   "metadata": {},
   "outputs": [],
   "source": []
  },
  {
   "cell_type": "code",
   "execution_count": null,
   "id": "f46a9774",
   "metadata": {},
   "outputs": [],
   "source": []
  },
  {
   "cell_type": "code",
   "execution_count": null,
   "id": "11a732a4",
   "metadata": {},
   "outputs": [],
   "source": []
  },
  {
   "cell_type": "code",
   "execution_count": null,
   "id": "0b1640a5",
   "metadata": {},
   "outputs": [],
   "source": []
  },
  {
   "cell_type": "code",
   "execution_count": null,
   "id": "ca0c5195",
   "metadata": {},
   "outputs": [],
   "source": []
  },
  {
   "cell_type": "code",
   "execution_count": null,
   "id": "032e2028",
   "metadata": {},
   "outputs": [],
   "source": []
  },
  {
   "cell_type": "code",
   "execution_count": null,
   "id": "3ea37c77",
   "metadata": {},
   "outputs": [],
   "source": []
  },
  {
   "cell_type": "code",
   "execution_count": null,
   "id": "32de389b",
   "metadata": {},
   "outputs": [],
   "source": []
  },
  {
   "cell_type": "code",
   "execution_count": null,
   "id": "e26d0cbf",
   "metadata": {},
   "outputs": [],
   "source": []
  },
  {
   "cell_type": "code",
   "execution_count": null,
   "id": "97ecea46",
   "metadata": {},
   "outputs": [],
   "source": []
  },
  {
   "cell_type": "code",
   "execution_count": null,
   "id": "6bd320f8",
   "metadata": {},
   "outputs": [],
   "source": []
  },
  {
   "cell_type": "code",
   "execution_count": null,
   "id": "80e8d2fd",
   "metadata": {},
   "outputs": [],
   "source": []
  },
  {
   "cell_type": "code",
   "execution_count": null,
   "id": "64dfe5a8",
   "metadata": {},
   "outputs": [],
   "source": []
  },
  {
   "cell_type": "code",
   "execution_count": null,
   "id": "36344285",
   "metadata": {},
   "outputs": [],
   "source": []
  },
  {
   "cell_type": "code",
   "execution_count": null,
   "id": "350fee2e",
   "metadata": {},
   "outputs": [],
   "source": []
  },
  {
   "cell_type": "code",
   "execution_count": null,
   "id": "e713413f",
   "metadata": {},
   "outputs": [],
   "source": []
  },
  {
   "cell_type": "code",
   "execution_count": null,
   "id": "9cfedb5e",
   "metadata": {},
   "outputs": [],
   "source": []
  },
  {
   "cell_type": "code",
   "execution_count": null,
   "id": "ab8f9b34",
   "metadata": {},
   "outputs": [],
   "source": []
  },
  {
   "cell_type": "code",
   "execution_count": null,
   "id": "83dee495",
   "metadata": {},
   "outputs": [],
   "source": []
  }
 ],
 "metadata": {
  "kernelspec": {
   "display_name": "Python 3",
   "language": "python",
   "name": "python3"
  },
  "language_info": {
   "codemirror_mode": {
    "name": "ipython",
    "version": 3
   },
   "file_extension": ".py",
   "mimetype": "text/x-python",
   "name": "python",
   "nbconvert_exporter": "python",
   "pygments_lexer": "ipython3",
   "version": "3.12.11"
  }
 },
 "nbformat": 4,
 "nbformat_minor": 5
}
